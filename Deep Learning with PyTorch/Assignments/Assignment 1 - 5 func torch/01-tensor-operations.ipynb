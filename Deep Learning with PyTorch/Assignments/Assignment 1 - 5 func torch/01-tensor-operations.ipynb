{
 "cells": [
  {
   "cell_type": "markdown",
   "metadata": {
    "id": "ScoyixYtu7Sv"
   },
   "source": [
    "# Learn Five Interesting Functions in PyTorch\n",
    "\n",
    "We will check 5 interesting functions from PyTorch Documentation with several use cases each.\n",
    "\n",
    "PyTorch is an open source machine learning library based on the Torch library, used for applications such as computer vision and natural language processing, primarily developed by Facebook's AI Research lab.( and about the chosen functions. )\n",
    "\n",
    "- torch.zeros_like()\n",
    "- torch.rand()\n",
    "- torch.where()\n",
    "- torch.randperm()\n",
    "- torch.save()\n",
    "\n",
    "Before we begin, let's install and import PyTorch"
   ]
  },
  {
   "cell_type": "code",
   "execution_count": 1,
   "metadata": {
    "colab": {
     "base_uri": "https://localhost:8080/"
    },
    "executionInfo": {
     "elapsed": 4425,
     "status": "ok",
     "timestamp": 1606604151609,
     "user": {
      "displayName": "Aneesh Kiran Dalvi",
      "photoUrl": "",
      "userId": "05154893353256584801"
     },
     "user_tz": 360
    },
    "id": "WZoKKLqSu7Sv",
    "outputId": "ac6dbb99-35a5-4c7d-8005-cbdd7ba0468d"
   },
   "outputs": [
    {
     "name": "stdout",
     "output_type": "stream",
     "text": [
      "Looking in links: https://download.pytorch.org/whl/torch_stable.html\n",
      "Requirement already satisfied: numpy in /home/david/anaconda3/lib/python3.7/site-packages (1.18.1)\n",
      "Collecting torch==1.7.0+cpu\n",
      "  Downloading https://download.pytorch.org/whl/cpu/torch-1.7.0%2Bcpu-cp37-cp37m-linux_x86_64.whl (159.3 MB)\n",
      "\u001b[K     |████████████████████████████████| 159.3 MB 4.1 kB/s  eta 0:00:01     |███████████████████████████████▏| 155.2 MB 23.1 MB/s eta 0:00:01\n",
      "\u001b[?25hCollecting torchvision==0.8.1+cpu\n",
      "  Downloading https://download.pytorch.org/whl/cpu/torchvision-0.8.1%2Bcpu-cp37-cp37m-linux_x86_64.whl (11.8 MB)\n",
      "\u001b[K     |████████████████████████████████| 11.8 MB 19.5 MB/s eta 0:00:01\n",
      "\u001b[?25hCollecting torchaudio==0.7.0\n",
      "  Downloading torchaudio-0.7.0-cp37-cp37m-manylinux1_x86_64.whl (7.6 MB)\n",
      "\u001b[K     |████████████████████████████████| 7.6 MB 1.3 MB/s eta 0:00:01\n",
      "\u001b[?25hRequirement already satisfied: future in /home/david/anaconda3/lib/python3.7/site-packages (from torch==1.7.0+cpu) (0.18.2)\n",
      "Collecting dataclasses\n",
      "  Downloading dataclasses-0.6-py3-none-any.whl (14 kB)\n",
      "Collecting typing-extensions\n",
      "  Downloading typing_extensions-3.7.4.3-py3-none-any.whl (22 kB)\n",
      "Requirement already satisfied: pillow>=4.1.1 in /home/david/anaconda3/lib/python3.7/site-packages (from torchvision==0.8.1+cpu) (7.0.0)\n",
      "Installing collected packages: dataclasses, typing-extensions, torch, torchvision, torchaudio\n",
      "Successfully installed dataclasses-0.6 torch-1.7.0+cpu torchaudio-0.7.0 torchvision-0.8.1+cpu typing-extensions-3.7.4.3\n"
     ]
    }
   ],
   "source": [
    "# Uncomment and run the appropriate command for your operating system, if required\n",
    "\n",
    "# Linux / Binder\n",
    "# !pip install numpy torch==1.7.0+cpu torchvision==0.8.1+cpu torchaudio==0.7.0 -f https://download.pytorch.org/whl/torch_stable.html\n",
    "\n",
    "# Windows\n",
    "!pip install numpy torch==1.7.0+cpu torchvision==0.8.1+cpu torchaudio==0.7.0 -f https://download.pytorch.org/whl/torch_stable.html\n",
    "\n",
    "# MacOS\n",
    "# !pip install numpy torch torchvision torchaudio"
   ]
  },
  {
   "cell_type": "code",
   "execution_count": 2,
   "metadata": {
    "executionInfo": {
     "elapsed": 530,
     "status": "ok",
     "timestamp": 1606604151878,
     "user": {
      "displayName": "Aneesh Kiran Dalvi",
      "photoUrl": "",
      "userId": "05154893353256584801"
     },
     "user_tz": 360
    },
    "id": "wrn9RFN1u7Sv"
   },
   "outputs": [],
   "source": [
    "# Import torch and other required modules\n",
    "import torch"
   ]
  },
  {
   "cell_type": "markdown",
   "metadata": {
    "id": "eLkatIlsu7Sv"
   },
   "source": [
    "## Function 1 - torch.zeros_like \n",
    "\n",
    "Returns a tensor filled with the scalar value 0, with the same size as input"
   ]
  },
  {
   "cell_type": "code",
   "execution_count": 3,
   "metadata": {
    "colab": {
     "base_uri": "https://localhost:8080/"
    },
    "executionInfo": {
     "elapsed": 588,
     "status": "ok",
     "timestamp": 1606604153639,
     "user": {
      "displayName": "Aneesh Kiran Dalvi",
      "photoUrl": "",
      "userId": "05154893353256584801"
     },
     "user_tz": 360
    },
    "id": "xrxBTmE5u7Sv",
    "outputId": "0a96861a-5647-43e5-88ec-820aa9230d84"
   },
   "outputs": [
    {
     "name": "stdout",
     "output_type": "stream",
     "text": [
      "tensor([[1., 2.],\n",
      "        [3., 4.]])\n"
     ]
    },
    {
     "data": {
      "text/plain": [
       "tensor([[0., 0.],\n",
       "        [0., 0.]])"
      ]
     },
     "execution_count": 3,
     "metadata": {},
     "output_type": "execute_result"
    }
   ],
   "source": [
    "# Example 1 - This examples create a Tensor t1 manually and then uses zeros_like to replicate it into a zeros tensor of same shape as the t1\n",
    "t1 = torch.Tensor([[1, 2], [3, 4.]])\n",
    "print(t1)\n",
    "torch.zeros_like(t1)"
   ]
  },
  {
   "cell_type": "markdown",
   "metadata": {
    "id": "YXvSFYFFu7Sy"
   },
   "source": [
    "zeros_like() creates a Tensor t1 manually and then uses zeros_like to replicate it into a zeros tensor of same shape as the t1\n",
    "\n",
    "Below example creates a Tensor t2 having shape (2,5) and all values 3.141592 and then uses zeros_like to replicate it into a zeros tensor of same shape as t2"
   ]
  },
  {
   "cell_type": "code",
   "execution_count": 4,
   "metadata": {
    "colab": {
     "base_uri": "https://localhost:8080/"
    },
    "executionInfo": {
     "elapsed": 610,
     "status": "ok",
     "timestamp": 1606604155658,
     "user": {
      "displayName": "Aneesh Kiran Dalvi",
      "photoUrl": "",
      "userId": "05154893353256584801"
     },
     "user_tz": 360
    },
    "id": "dwQn4dAJu7Sz",
    "outputId": "3af0e7b1-e605-4dbf-99a7-abdc48ad1348"
   },
   "outputs": [
    {
     "name": "stdout",
     "output_type": "stream",
     "text": [
      "tensor([[3.1416, 3.1416, 3.1416, 3.1416, 3.1416],\n",
      "        [3.1416, 3.1416, 3.1416, 3.1416, 3.1416]])\n"
     ]
    },
    {
     "data": {
      "text/plain": [
       "tensor([[0., 0., 0., 0., 0.],\n",
       "        [0., 0., 0., 0., 0.]])"
      ]
     },
     "execution_count": 4,
     "metadata": {},
     "output_type": "execute_result"
    }
   ],
   "source": [
    "# Example 2 - working\n",
    "t2 = torch.full((2, 5), 3.141592)\n",
    "print(t2)\n",
    "torch.zeros_like(t2)"
   ]
  },
  {
   "cell_type": "markdown",
   "metadata": {
    "id": "CklLEINku7Sz"
   },
   "source": [
    "zeros_like can create new tensors with any shape input tensor passed to it provided it the input tensor should be having correct dimensions\n"
   ]
  },
  {
   "cell_type": "code",
   "execution_count": 5,
   "metadata": {
    "colab": {
     "base_uri": "https://localhost:8080/",
     "height": 197
    },
    "executionInfo": {
     "elapsed": 584,
     "status": "error",
     "timestamp": 1606604157653,
     "user": {
      "displayName": "Aneesh Kiran Dalvi",
      "photoUrl": "",
      "userId": "05154893353256584801"
     },
     "user_tz": 360
    },
    "id": "i2XPoD6vu7Sz",
    "outputId": "3c29bfbc-153e-4b1e-a373-f8c3d2861867"
   },
   "outputs": [
    {
     "ename": "TypeError",
     "evalue": "zeros_like() missing 1 required positional arguments: \"input\"",
     "output_type": "error",
     "traceback": [
      "\u001b[0;31m---------------------------------------------------------------------------\u001b[0m",
      "\u001b[0;31mTypeError\u001b[0m                                 Traceback (most recent call last)",
      "\u001b[0;32m<ipython-input-5-533afa8a23cc>\u001b[0m in \u001b[0;36m<module>\u001b[0;34m\u001b[0m\n\u001b[1;32m      1\u001b[0m \u001b[0;31m# Example 3 - gives an error here as it is required to pass an input parameter to this function\u001b[0m\u001b[0;34m\u001b[0m\u001b[0;34m\u001b[0m\u001b[0;34m\u001b[0m\u001b[0m\n\u001b[1;32m      2\u001b[0m \u001b[0;34m\u001b[0m\u001b[0m\n\u001b[0;32m----> 3\u001b[0;31m \u001b[0mtorch\u001b[0m\u001b[0;34m.\u001b[0m\u001b[0mzeros_like\u001b[0m\u001b[0;34m(\u001b[0m\u001b[0;34m)\u001b[0m\u001b[0;34m\u001b[0m\u001b[0;34m\u001b[0m\u001b[0m\n\u001b[0m",
      "\u001b[0;31mTypeError\u001b[0m: zeros_like() missing 1 required positional arguments: \"input\""
     ]
    }
   ],
   "source": [
    "# Example 3 - gives an error here as it is required to pass an input parameter to this function\n",
    "\n",
    "torch.zeros_like()"
   ]
  },
  {
   "cell_type": "markdown",
   "metadata": {
    "id": "BpYSo5aDu7Sz"
   },
   "source": [
    "zeros_like needs an input tensor to create a new tensor of zeros out of it"
   ]
  },
  {
   "cell_type": "markdown",
   "metadata": {
    "id": "Aue40pptu7Sz"
   },
   "source": [
    "Hence zeros_like() comes handy when we need to create a tensor filled with zeros for the same dimensions as any given tensors which we already have into our codebase."
   ]
  },
  {
   "cell_type": "markdown",
   "metadata": {
    "id": "VNbkE2mZu7Sz"
   },
   "source": [
    "Let's save our work using Jovian before continuing."
   ]
  },
  {
   "cell_type": "code",
   "execution_count": 6,
   "metadata": {
    "executionInfo": {
     "elapsed": 7117,
     "status": "aborted",
     "timestamp": 1606604123434,
     "user": {
      "displayName": "Aneesh Kiran Dalvi",
      "photoUrl": "",
      "userId": "05154893353256584801"
     },
     "user_tz": 360
    },
    "id": "O4GUaEzpu7Sz"
   },
   "outputs": [],
   "source": [
    "!pip install jovian --upgrade --quiet"
   ]
  },
  {
   "cell_type": "code",
   "execution_count": 7,
   "metadata": {
    "executionInfo": {
     "elapsed": 7097,
     "status": "aborted",
     "timestamp": 1606604123435,
     "user": {
      "displayName": "Aneesh Kiran Dalvi",
      "photoUrl": "",
      "userId": "05154893353256584801"
     },
     "user_tz": 360
    },
    "id": "WEDFHZvpu7Sz"
   },
   "outputs": [
    {
     "data": {
      "application/javascript": [
       "if (window.IPython && IPython.notebook.kernel) IPython.notebook.kernel.execute('jovian.utils.jupyter.get_notebook_name_saved = lambda: \"' + IPython.notebook.notebook_name + '\"')"
      ],
      "text/plain": [
       "<IPython.core.display.Javascript object>"
      ]
     },
     "metadata": {},
     "output_type": "display_data"
    }
   ],
   "source": [
    "import jovian"
   ]
  },
  {
   "cell_type": "code",
   "execution_count": 13,
   "metadata": {
    "executionInfo": {
     "elapsed": 7080,
     "status": "aborted",
     "timestamp": 1606604123436,
     "user": {
      "displayName": "Aneesh Kiran Dalvi",
      "photoUrl": "",
      "userId": "05154893353256584801"
     },
     "user_tz": 360
    },
    "id": "WZnTVLS7u7Sz"
   },
   "outputs": [
    {
     "data": {
      "application/javascript": [
       "window.require && require([\"base/js/namespace\"],function(Jupyter){Jupyter.notebook.save_checkpoint()})"
      ],
      "text/plain": [
       "<IPython.core.display.Javascript object>"
      ]
     },
     "metadata": {},
     "output_type": "display_data"
    },
    {
     "name": "stdout",
     "output_type": "stream",
     "text": [
      "[jovian] Attempting to save notebook..\n",
      "[jovian] Updating notebook \"lamoz9ra/01-tensor-operations\" on https://jovian.ai/\n",
      "[jovian] Uploading notebook..\n",
      "[jovian] Capturing environment..\n",
      "[jovian] Committed successfully! https://jovian.ai/lamoz9ra/01-tensor-operations\n"
     ]
    },
    {
     "data": {
      "text/plain": [
       "'https://jovian.ai/lamoz9ra/01-tensor-operations'"
      ]
     },
     "execution_count": 13,
     "metadata": {},
     "output_type": "execute_result"
    }
   ],
   "source": [
    "jovian.commit(project='01-tensor-operations')"
   ]
  },
  {
   "cell_type": "markdown",
   "metadata": {
    "id": "ukSFvuD6u7S0"
   },
   "source": [
    "## Function 2 - torch.rand()\n",
    "\n",
    "The torch.rand function is similar to the torch.arange function. However, it has some key differences that I felt made it a good subject for my second function. I will explain how the two functions are used differently in the examples below.\n"
   ]
  },
  {
   "cell_type": "code",
   "execution_count": 9,
   "metadata": {},
   "outputs": [
    {
     "name": "stdout",
     "output_type": "stream",
     "text": [
      "tensor([[2., 5., 1.],\n",
      "        [4., 2., 5.],\n",
      "        [9., 3., 6.]])\n",
      "tensor([[0.5239, 0.8744, 0.5476],\n",
      "        [0.8569, 0.2785, 0.9044],\n",
      "        [0.0604, 0.6575, 0.4094]])\n"
     ]
    }
   ],
   "source": [
    "x= torch.tensor([[2,5,1],\n",
    "               [4,2,5],\n",
    "               [9,3,6]], dtype = torch.float32)\n",
    "s= x.shape\n",
    "y= torch.rand(s)\n",
    "print(x)\n",
    "print(y)"
   ]
  },
  {
   "cell_type": "markdown",
   "metadata": {},
   "source": [
    "In this example I show that using the .rand function can quickly and easily generate a tensor with the same shape as x, that is populated with random intergers. It is important to note however, that while the .arange function uses intergers in a given range, the .rand function picks intergers that have a uniform distribution on the interval [0,1).  "
   ]
  },
  {
   "cell_type": "code",
   "execution_count": 10,
   "metadata": {},
   "outputs": [
    {
     "name": "stdout",
     "output_type": "stream",
     "text": [
      "tensor([0.7070, 0.2805, 0.2398, 0.4658, 0.8012])\n",
      "tensor([2.0000, 2.5000, 3.0000, 3.5000, 4.0000, 4.5000, 5.0000, 5.5000, 6.0000]) \n",
      "\n",
      "tensor([0.9736, 0.6853, 0.1251, 0.7347, 0.2692, 0.1264, 0.6086, 0.7506, 0.3234,\n",
      "        0.6625])\n",
      "tensor([0.0000, 0.1000, 0.2000, 0.3000, 0.4000, 0.5000, 0.6000, 0.7000, 0.8000,\n",
      "        0.9000])\n"
     ]
    }
   ],
   "source": [
    "x=torch.rand(5, dtype=torch.float32)\n",
    "y= torch.arange(2,6.5,.5, dtype= torch.float32)\n",
    "x1=torch.rand(10, dtype= torch.float32)\n",
    "y1= torch.arange(0,1,.1, dtype=torch.float32)\n",
    "print(x)\n",
    "print(y,'\\n')\n",
    "print(x1)\n",
    "print(y1)"
   ]
  },
  {
   "cell_type": "markdown",
   "metadata": {},
   "source": [
    "Here I've shown that while both functions can be used to create tensors for any size, the .rand picks random values on a distribution curve from [0,1), and the .arange picks intergers that are evenly seperated between the start and end values. Thus, which one is necessary depends on the range of data you wish to generate."
   ]
  },
  {
   "cell_type": "code",
   "execution_count": 11,
   "metadata": {},
   "outputs": [
    {
     "ename": "RuntimeError",
     "evalue": "\"check_uniform_bounds\" not implemented for 'Long'",
     "output_type": "error",
     "traceback": [
      "\u001b[0;31m---------------------------------------------------------------------------\u001b[0m",
      "\u001b[0;31mRuntimeError\u001b[0m                              Traceback (most recent call last)",
      "\u001b[0;32m<ipython-input-11-f8ffe391362d>\u001b[0m in \u001b[0;36m<module>\u001b[0;34m\u001b[0m\n\u001b[0;32m----> 1\u001b[0;31m \u001b[0mtorch\u001b[0m\u001b[0;34m.\u001b[0m\u001b[0mrand\u001b[0m\u001b[0;34m(\u001b[0m\u001b[0;36m1\u001b[0m\u001b[0;34m,\u001b[0m \u001b[0mdtype\u001b[0m\u001b[0;34m=\u001b[0m \u001b[0mint\u001b[0m\u001b[0;34m)\u001b[0m\u001b[0;34m\u001b[0m\u001b[0;34m\u001b[0m\u001b[0m\n\u001b[0m",
      "\u001b[0;31mRuntimeError\u001b[0m: \"check_uniform_bounds\" not implemented for 'Long'"
     ]
    }
   ],
   "source": [
    "torch.rand(1, dtype= int)"
   ]
  },
  {
   "cell_type": "markdown",
   "metadata": {},
   "source": [
    "Here I show that the dtype for .rand cannot be an int. This is because the distribution it selects numbers from is between, but non-inclusive of 0 & 1. Therefore the function can yield no whole number intergers."
   ]
  },
  {
   "cell_type": "markdown",
   "metadata": {},
   "source": [
    "In Summary, the .rand function is useful for creating a tensor that fits the shape of another tensor and contains values on an even distribution. This is useful for selecting weights as a starting point when beginning to train a predictive program. "
   ]
  },
  {
   "cell_type": "code",
   "execution_count": 12,
   "metadata": {
    "colab": {
     "base_uri": "https://localhost:8080/",
     "height": 103
    },
    "executionInfo": {
     "elapsed": 4594,
     "status": "ok",
     "timestamp": 1606604173293,
     "user": {
      "displayName": "Aneesh Kiran Dalvi",
      "photoUrl": "",
      "userId": "05154893353256584801"
     },
     "user_tz": 360
    },
    "id": "fVO5kYWEu7S0",
    "outputId": "8d0987c9-cfeb-46a3-e4a2-bf334e363837"
   },
   "outputs": [
    {
     "data": {
      "application/javascript": [
       "window.require && require([\"base/js/namespace\"],function(Jupyter){Jupyter.notebook.save_checkpoint()})"
      ],
      "text/plain": [
       "<IPython.core.display.Javascript object>"
      ]
     },
     "metadata": {},
     "output_type": "display_data"
    },
    {
     "name": "stdout",
     "output_type": "stream",
     "text": [
      "[jovian] Attempting to save notebook..\n",
      "[jovian] Updating notebook \"lamoz9ra/01-tensor-operations\" on https://jovian.ai/\n",
      "[jovian] Uploading notebook..\n",
      "[jovian] Capturing environment..\n",
      "[jovian] Committed successfully! https://jovian.ai/lamoz9ra/01-tensor-operations\n"
     ]
    },
    {
     "data": {
      "text/plain": [
       "'https://jovian.ai/lamoz9ra/01-tensor-operations'"
      ]
     },
     "execution_count": 12,
     "metadata": {},
     "output_type": "execute_result"
    }
   ],
   "source": [
    "jovian.commit(project='01-tensor-operations')"
   ]
  },
  {
   "cell_type": "markdown",
   "metadata": {
    "id": "lrxPgVCHu7S1"
   },
   "source": [
    "## Function 3 - torch.where()\n",
    "\n",
    "Return a tensor of elements selected from either x or y, depending on condition.\n",
    "\n",
    "if x then x otherwise y."
   ]
  },
  {
   "cell_type": "code",
   "execution_count": 97,
   "metadata": {
    "colab": {
     "base_uri": "https://localhost:8080/"
    },
    "executionInfo": {
     "elapsed": 3079,
     "status": "ok",
     "timestamp": 1606604173295,
     "user": {
      "displayName": "Aneesh Kiran Dalvi",
      "photoUrl": "",
      "userId": "05154893353256584801"
     },
     "user_tz": 360
    },
    "id": "KH3X7Xpju7S1",
    "outputId": "335fb5b8-c11e-482d-b51d-68546bc2f2af"
   },
   "outputs": [
    {
     "name": "stdout",
     "output_type": "stream",
     "text": [
      "tensor([[ 0.0026, -0.4618],\n",
      "        [ 0.1817,  1.1955],\n",
      "        [ 0.7865,  0.5885]])\n",
      "tensor([[0., 0.],\n",
      "        [0., 0.],\n",
      "        [0., 0.]])\n"
     ]
    },
    {
     "data": {
      "text/plain": [
       "tensor([[0., 0.],\n",
       "        [0., 0.],\n",
       "        [0., 0.]])"
      ]
     },
     "execution_count": 97,
     "metadata": {
      "tags": []
     },
     "output_type": "execute_result"
    }
   ],
   "source": [
    "# Example 1 - working\n",
    "tx = torch.randn(3,2)\n",
    "ty = torch.zeros_like(tx)\n",
    "print(tx)\n",
    "print(ty)\n",
    "torch.where(tx == ty, tx, ty) #torch.where(condition, tensor1, tensor2) returns tensor1 or tensor2 depending on the condition"
   ]
  },
  {
   "cell_type": "markdown",
   "metadata": {
    "id": "5vGVmyM6u7S1"
   },
   "source": [
    "It returns ty as tx is not equal to ty. "
   ]
  },
  {
   "cell_type": "code",
   "execution_count": 99,
   "metadata": {
    "colab": {
     "base_uri": "https://localhost:8080/"
    },
    "executionInfo": {
     "elapsed": 544,
     "status": "ok",
     "timestamp": 1606604176269,
     "user": {
      "displayName": "Aneesh Kiran Dalvi",
      "photoUrl": "",
      "userId": "05154893353256584801"
     },
     "user_tz": 360
    },
    "id": "v-sMXUfnu7S1",
    "outputId": "1b574762-e39d-4790-9344-a5fe42dd7284"
   },
   "outputs": [
    {
     "data": {
      "text/plain": [
       "tensor([[0.0026, 0.0000],\n",
       "        [0.1817, 1.1955],\n",
       "        [0.7865, 0.5885]])"
      ]
     },
     "execution_count": 99,
     "metadata": {
      "tags": []
     },
     "output_type": "execute_result"
    }
   ],
   "source": [
    "# Example 2 - working\n",
    "torch.where(tx > 0, tx, ty)"
   ]
  },
  {
   "cell_type": "markdown",
   "metadata": {
    "id": "_gPJkFQzu7S1"
   },
   "source": [
    "Here it returns tx as tx > 0 is True"
   ]
  },
  {
   "cell_type": "code",
   "execution_count": 100,
   "metadata": {
    "colab": {
     "base_uri": "https://localhost:8080/",
     "height": 333
    },
    "executionInfo": {
     "elapsed": 646,
     "status": "error",
     "timestamp": 1606604178024,
     "user": {
      "displayName": "Aneesh Kiran Dalvi",
      "photoUrl": "",
      "userId": "05154893353256584801"
     },
     "user_tz": 360
    },
    "id": "dPRMTX4Pu7S1",
    "outputId": "d10cb039-b65f-4c9b-b1cf-8c0899515e8c"
   },
   "outputs": [
    {
     "ename": "TypeError",
     "evalue": "ignored",
     "output_type": "error",
     "traceback": [
      "\u001b[0;31m---------------------------------------------------------------------------\u001b[0m",
      "\u001b[0;31mTypeError\u001b[0m                                 Traceback (most recent call last)",
      "\u001b[0;32m<ipython-input-100-8e283454003c>\u001b[0m in \u001b[0;36m<module>\u001b[0;34m()\u001b[0m\n\u001b[1;32m      1\u001b[0m \u001b[0;31m# Example 3 - breaking (to illustrate when it breaks)\u001b[0m\u001b[0;34m\u001b[0m\u001b[0;34m\u001b[0m\u001b[0;34m\u001b[0m\u001b[0m\n\u001b[0;32m----> 2\u001b[0;31m \u001b[0mtorch\u001b[0m\u001b[0;34m.\u001b[0m\u001b[0mwhere\u001b[0m\u001b[0;34m(\u001b[0m\u001b[0;32mTrue\u001b[0m\u001b[0;34m,\u001b[0m \u001b[0mtx\u001b[0m\u001b[0;34m,\u001b[0m \u001b[0mty\u001b[0m\u001b[0;34m)\u001b[0m\u001b[0;34m\u001b[0m\u001b[0;34m\u001b[0m\u001b[0m\n\u001b[0m",
      "\u001b[0;31mTypeError\u001b[0m: where() received an invalid combination of arguments - got (bool, Tensor, Tensor), but expected one of:\n * (Tensor condition)\n * (Tensor condition, Tensor input, Tensor other)\n      didn't match because some of the arguments have invalid types: (!bool!, Tensor, Tensor)\n * (Tensor condition, Number self, Tensor other)\n      didn't match because some of the arguments have invalid types: (!bool!, !Tensor!, Tensor)\n * (Tensor condition, Tensor input, Number other)\n      didn't match because some of the arguments have invalid types: (!bool!, Tensor, !Tensor!)\n * (Tensor condition, Number self, Number other)\n      didn't match because some of the arguments have invalid types: (!bool!, !Tensor!, !Tensor!)\n"
     ]
    }
   ],
   "source": [
    "# Example 3 - breaking (to illustrate when it breaks)\n",
    "torch.where(True, tx, ty)"
   ]
  },
  {
   "cell_type": "markdown",
   "metadata": {
    "id": "ffCQOlq4u7S1"
   },
   "source": [
    "This fails because the condition passed in where() should be Tensor condition otherwise it fails with this error"
   ]
  },
  {
   "cell_type": "markdown",
   "metadata": {
    "id": "EgogLrLKu7S1"
   },
   "source": [
    "Closing comments about when to use this function"
   ]
  },
  {
   "cell_type": "code",
   "execution_count": 101,
   "metadata": {
    "colab": {
     "base_uri": "https://localhost:8080/",
     "height": 103
    },
    "executionInfo": {
     "elapsed": 3137,
     "status": "ok",
     "timestamp": 1606604182410,
     "user": {
      "displayName": "Aneesh Kiran Dalvi",
      "photoUrl": "",
      "userId": "05154893353256584801"
     },
     "user_tz": 360
    },
    "id": "TYUtzLYlu7S1",
    "outputId": "f256cd3a-56ff-4bcd-f36b-bfe19f917106"
   },
   "outputs": [
    {
     "name": "stdout",
     "output_type": "stream",
     "text": [
      "[jovian] Detected Colab notebook...\u001b[0m\n",
      "[jovian] Uploading colab notebook to Jovian...\u001b[0m\n",
      "[jovian] Capturing environment..\u001b[0m\n",
      "[jovian] Committed successfully! https://jovian.ai/aneeshdalvi/01-tensor-operations\u001b[0m\n"
     ]
    },
    {
     "data": {
      "application/vnd.google.colaboratory.intrinsic+json": {
       "type": "string"
      },
      "text/plain": [
       "'https://jovian.ai/aneeshdalvi/01-tensor-operations'"
      ]
     },
     "execution_count": 101,
     "metadata": {
      "tags": []
     },
     "output_type": "execute_result"
    }
   ],
   "source": [
    "jovian.commit(project='01-tensor-operations')"
   ]
  },
  {
   "cell_type": "markdown",
   "metadata": {
    "id": "E2ig67Osu7S1"
   },
   "source": [
    "## Function 4 - torch.randperm()\n",
    "\n",
    "Returns a random permutation of integers from 0 to n - 1."
   ]
  },
  {
   "cell_type": "code",
   "execution_count": 102,
   "metadata": {
    "colab": {
     "base_uri": "https://localhost:8080/"
    },
    "executionInfo": {
     "elapsed": 411,
     "status": "ok",
     "timestamp": 1606604182716,
     "user": {
      "displayName": "Aneesh Kiran Dalvi",
      "photoUrl": "",
      "userId": "05154893353256584801"
     },
     "user_tz": 360
    },
    "id": "70mVKPznu7S1",
    "outputId": "b743025c-e52f-44c7-b16b-e2ad38ca2b6a"
   },
   "outputs": [
    {
     "data": {
      "text/plain": [
       "tensor([3, 2, 0, 1])"
      ]
     },
     "execution_count": 102,
     "metadata": {
      "tags": []
     },
     "output_type": "execute_result"
    }
   ],
   "source": [
    "# Example 1 - working\n",
    "torch.randperm(4)"
   ]
  },
  {
   "cell_type": "markdown",
   "metadata": {
    "id": "SshZ1wNRu7S2"
   },
   "source": [
    "It returns a tensor with random permutation of the upper bound which we provide to the function"
   ]
  },
  {
   "cell_type": "code",
   "execution_count": 103,
   "metadata": {
    "colab": {
     "base_uri": "https://localhost:8080/"
    },
    "executionInfo": {
     "elapsed": 553,
     "status": "ok",
     "timestamp": 1606604184537,
     "user": {
      "displayName": "Aneesh Kiran Dalvi",
      "photoUrl": "",
      "userId": "05154893353256584801"
     },
     "user_tz": 360
    },
    "id": "iRhaPDd4u7S2",
    "outputId": "4e255e2e-0c04-46e5-c9a5-d9de2625b240"
   },
   "outputs": [
    {
     "data": {
      "text/plain": [
       "tensor([4., 1., 8., 2., 5., 3., 0., 6., 7., 9.], dtype=torch.float64)"
      ]
     },
     "execution_count": 103,
     "metadata": {
      "tags": []
     },
     "output_type": "execute_result"
    }
   ],
   "source": [
    "# Example 2 - working\n",
    "torch.randperm(10, dtype=torch.float64)"
   ]
  },
  {
   "cell_type": "markdown",
   "metadata": {
    "id": "jNBftOKRu7S2"
   },
   "source": [
    "You can create a tensor by specifying the dtype for the permutations as well"
   ]
  },
  {
   "cell_type": "code",
   "execution_count": 104,
   "metadata": {
    "colab": {
     "base_uri": "https://localhost:8080/",
     "height": 180
    },
    "executionInfo": {
     "elapsed": 578,
     "status": "error",
     "timestamp": 1606604186338,
     "user": {
      "displayName": "Aneesh Kiran Dalvi",
      "photoUrl": "",
      "userId": "05154893353256584801"
     },
     "user_tz": 360
    },
    "id": "X0YqhoMOu7S2",
    "outputId": "7551acd5-c883-4d86-8a47-334ddf6c251f"
   },
   "outputs": [
    {
     "ename": "RuntimeError",
     "evalue": "ignored",
     "output_type": "error",
     "traceback": [
      "\u001b[0;31m---------------------------------------------------------------------------\u001b[0m",
      "\u001b[0;31mRuntimeError\u001b[0m                              Traceback (most recent call last)",
      "\u001b[0;32m<ipython-input-104-2a66cb16e8a1>\u001b[0m in \u001b[0;36m<module>\u001b[0;34m()\u001b[0m\n\u001b[1;32m      1\u001b[0m \u001b[0;31m# Example 3 - breaking (to illustrate when it breaks)\u001b[0m\u001b[0;34m\u001b[0m\u001b[0;34m\u001b[0m\u001b[0;34m\u001b[0m\u001b[0m\n\u001b[0;32m----> 2\u001b[0;31m \u001b[0mtorch\u001b[0m\u001b[0;34m.\u001b[0m\u001b[0mrandperm\u001b[0m\u001b[0;34m(\u001b[0m\u001b[0;34m-\u001b[0m\u001b[0;36m2\u001b[0m\u001b[0;34m)\u001b[0m\u001b[0;34m\u001b[0m\u001b[0;34m\u001b[0m\u001b[0m\n\u001b[0m",
      "\u001b[0;31mRuntimeError\u001b[0m: Trying to create tensor with negative dimension -2: [-2]"
     ]
    }
   ],
   "source": [
    "# Example 3 - breaking (to illustrate when it breaks)\n",
    "torch.randperm(-2)"
   ]
  },
  {
   "cell_type": "markdown",
   "metadata": {
    "id": "DhWO3Q7su7S2"
   },
   "source": [
    "You cannot pass negative dimension to the randperm() as a parameter. It must be an integer"
   ]
  },
  {
   "cell_type": "markdown",
   "metadata": {
    "id": "rLuUHwUku7S2"
   },
   "source": [
    "torch.randperm() function can be usefull when you want the same tensor but change the permutation of it"
   ]
  },
  {
   "cell_type": "code",
   "execution_count": null,
   "metadata": {
    "executionInfo": {
     "elapsed": 6836,
     "status": "aborted",
     "timestamp": 1606604123446,
     "user": {
      "displayName": "Aneesh Kiran Dalvi",
      "photoUrl": "",
      "userId": "05154893353256584801"
     },
     "user_tz": 360
    },
    "id": "PInlUCSiu7S2"
   },
   "outputs": [],
   "source": [
    "jovian.commit(project='01-tensor-operations')"
   ]
  },
  {
   "cell_type": "markdown",
   "metadata": {
    "id": "ImgsGmkQu7S2"
   },
   "source": [
    "## Function 5 - torch.save()\n",
    "\n",
    "Saves a Tensor to a disk file."
   ]
  },
  {
   "cell_type": "code",
   "execution_count": 105,
   "metadata": {
    "executionInfo": {
     "elapsed": 803,
     "status": "ok",
     "timestamp": 1606604191301,
     "user": {
      "displayName": "Aneesh Kiran Dalvi",
      "photoUrl": "",
      "userId": "05154893353256584801"
     },
     "user_tz": 360
    },
    "id": "AO0rXdStu7S2"
   },
   "outputs": [],
   "source": [
    "# Example 1 - working\n",
    "x = torch.tensor([0, 1, 2, 3, 4])\n",
    "torch.save(x, 'tensor.pt')  "
   ]
  },
  {
   "cell_type": "markdown",
   "metadata": {
    "id": "uraeOGyOu7S2"
   },
   "source": [
    "This command saves tensor as tensor.pt file in the files section of the notebook"
   ]
  },
  {
   "cell_type": "code",
   "execution_count": 14,
   "metadata": {
    "executionInfo": {
     "elapsed": 549,
     "status": "ok",
     "timestamp": 1606604192941,
     "user": {
      "displayName": "Aneesh Kiran Dalvi",
      "photoUrl": "",
      "userId": "05154893353256584801"
     },
     "user_tz": 360
    },
    "id": "Ne6OHTMku7S2"
   },
   "outputs": [],
   "source": [
    "# Example 2 - working\n",
    "import io\n",
    "buffer = io.BytesIO()\n",
    "torch.save(x, buffer)  "
   ]
  },
  {
   "cell_type": "markdown",
   "metadata": {
    "id": "_G0_guM7u7S2"
   },
   "source": [
    "You can also save the tensor as a buffer object"
   ]
  },
  {
   "cell_type": "code",
   "execution_count": 107,
   "metadata": {
    "colab": {
     "base_uri": "https://localhost:8080/",
     "height": 180
    },
    "executionInfo": {
     "elapsed": 585,
     "status": "error",
     "timestamp": 1606604194918,
     "user": {
      "displayName": "Aneesh Kiran Dalvi",
      "photoUrl": "",
      "userId": "05154893353256584801"
     },
     "user_tz": 360
    },
    "id": "0mKfBgz7u7S2",
    "outputId": "6fe36852-fdc3-46a9-d5a2-090f30ef0907"
   },
   "outputs": [
    {
     "ename": "TypeError",
     "evalue": "ignored",
     "output_type": "error",
     "traceback": [
      "\u001b[0;31m---------------------------------------------------------------------------\u001b[0m",
      "\u001b[0;31mTypeError\u001b[0m                                 Traceback (most recent call last)",
      "\u001b[0;32m<ipython-input-107-15de6b5c68e1>\u001b[0m in \u001b[0;36m<module>\u001b[0;34m()\u001b[0m\n\u001b[1;32m      1\u001b[0m \u001b[0;31m# Example 3 - breaking (to illustrate when it breaks)\u001b[0m\u001b[0;34m\u001b[0m\u001b[0;34m\u001b[0m\u001b[0;34m\u001b[0m\u001b[0m\n\u001b[0;32m----> 2\u001b[0;31m \u001b[0mtorch\u001b[0m\u001b[0;34m.\u001b[0m\u001b[0msave\u001b[0m\u001b[0;34m(\u001b[0m\u001b[0;34m)\u001b[0m\u001b[0;34m\u001b[0m\u001b[0;34m\u001b[0m\u001b[0m\n\u001b[0m",
      "\u001b[0;31mTypeError\u001b[0m: save() missing 2 required positional arguments: 'obj' and 'f'"
     ]
    }
   ],
   "source": [
    "# Example 3 - breaking (to illustrate when it breaks)\n",
    "torch.save()"
   ]
  },
  {
   "cell_type": "markdown",
   "metadata": {
    "id": "5aGsGkq0u7S3"
   },
   "source": [
    "save() requires a tensor object to be passed in order to save it to a disk"
   ]
  },
  {
   "cell_type": "markdown",
   "metadata": {
    "id": "Dx6GGcCLu7S3"
   },
   "source": [
    "This function is very usefull if you want to save some tensor and reuse it into a new notebook or reuse it somewhere else"
   ]
  },
  {
   "cell_type": "code",
   "execution_count": 108,
   "metadata": {
    "colab": {
     "base_uri": "https://localhost:8080/",
     "height": 103
    },
    "executionInfo": {
     "elapsed": 4366,
     "status": "ok",
     "timestamp": 1606604200608,
     "user": {
      "displayName": "Aneesh Kiran Dalvi",
      "photoUrl": "",
      "userId": "05154893353256584801"
     },
     "user_tz": 360
    },
    "id": "u3VUc6jXu7S3",
    "outputId": "44cfb8e7-5967-44d9-e551-e2cd67f3bddf"
   },
   "outputs": [
    {
     "name": "stdout",
     "output_type": "stream",
     "text": [
      "[jovian] Detected Colab notebook...\u001b[0m\n",
      "[jovian] Uploading colab notebook to Jovian...\u001b[0m\n",
      "[jovian] Capturing environment..\u001b[0m\n",
      "[jovian] Committed successfully! https://jovian.ai/aneeshdalvi/01-tensor-operations\u001b[0m\n"
     ]
    },
    {
     "data": {
      "application/vnd.google.colaboratory.intrinsic+json": {
       "type": "string"
      },
      "text/plain": [
       "'https://jovian.ai/aneeshdalvi/01-tensor-operations'"
      ]
     },
     "execution_count": 108,
     "metadata": {
      "tags": []
     },
     "output_type": "execute_result"
    }
   ],
   "source": [
    "jovian.commit(project='01-tensor-operations')"
   ]
  },
  {
   "cell_type": "markdown",
   "metadata": {
    "id": "NEidNCkKu7S3"
   },
   "source": [
    "## Conclusion\n",
    "\n",
    "Today we covered interesting five functions from the Pytorch Documentation which would be useful in many ways while writing Machine Learning Applications. All the Five Functions where randomly picked and all have different useful use cases."
   ]
  },
  {
   "cell_type": "markdown",
   "metadata": {
    "id": "RRG0Sc9Hu7S3"
   },
   "source": [
    "## Reference Links\n",
    "Provide links to your references and other interesting articles about tensors\n",
    "* Official documentation for tensor operations: https://pytorch.org/docs/stable/torch.html\n",
    "* ..."
   ]
  },
  {
   "cell_type": "code",
   "execution_count": 15,
   "metadata": {
    "colab": {
     "base_uri": "https://localhost:8080/",
     "height": 103
    },
    "executionInfo": {
     "elapsed": 3686,
     "status": "ok",
     "timestamp": 1606604308722,
     "user": {
      "displayName": "Aneesh Kiran Dalvi",
      "photoUrl": "",
      "userId": "05154893353256584801"
     },
     "user_tz": 360
    },
    "id": "hGFVjXWBu7S3",
    "outputId": "a146c61d-2c20-4d91-e622-95902675e290"
   },
   "outputs": [
    {
     "data": {
      "application/javascript": [
       "window.require && require([\"base/js/namespace\"],function(Jupyter){Jupyter.notebook.save_checkpoint()})"
      ],
      "text/plain": [
       "<IPython.core.display.Javascript object>"
      ]
     },
     "metadata": {},
     "output_type": "display_data"
    },
    {
     "name": "stdout",
     "output_type": "stream",
     "text": [
      "[jovian] Attempting to save notebook..\n",
      "[jovian] Updating notebook \"lamoz9ra/01-tensor-operations\" on https://jovian.ai/\n",
      "[jovian] Uploading notebook..\n",
      "[jovian] Capturing environment..\n",
      "[jovian] Committed successfully! https://jovian.ai/lamoz9ra/01-tensor-operations\n"
     ]
    },
    {
     "data": {
      "text/plain": [
       "'https://jovian.ai/lamoz9ra/01-tensor-operations'"
      ]
     },
     "execution_count": 15,
     "metadata": {},
     "output_type": "execute_result"
    }
   ],
   "source": [
    "jovian.commit(project='01-tensor-operations')"
   ]
  },
  {
   "cell_type": "code",
   "execution_count": null,
   "metadata": {
    "executionInfo": {
     "elapsed": 6736,
     "status": "aborted",
     "timestamp": 1606604123450,
     "user": {
      "displayName": "Aneesh Kiran Dalvi",
      "photoUrl": "",
      "userId": "05154893353256584801"
     },
     "user_tz": 360
    },
    "id": "aD0IyRwVu7S3"
   },
   "outputs": [],
   "source": []
  }
 ],
 "metadata": {
  "colab": {
   "name": "01-tensor-operations.ipynb",
   "provenance": [],
   "toc_visible": true
  },
  "kernelspec": {
   "display_name": "Python 3",
   "language": "python",
   "name": "python3"
  },
  "language_info": {
   "codemirror_mode": {
    "name": "ipython",
    "version": 3
   },
   "file_extension": ".py",
   "mimetype": "text/x-python",
   "name": "python",
   "nbconvert_exporter": "python",
   "pygments_lexer": "ipython3",
   "version": "3.7.6"
  }
 },
 "nbformat": 4,
 "nbformat_minor": 4
}
